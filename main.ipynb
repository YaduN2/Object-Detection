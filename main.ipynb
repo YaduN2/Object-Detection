{
 "cells": [
  {
   "cell_type": "code",
   "execution_count": 1,
   "metadata": {},
   "outputs": [],
   "source": [
    "import cv2\n",
    "import numpy as np\n",
    "import matplotlib.pyplot as plt"
   ]
  },
  {
   "cell_type": "code",
   "execution_count": 2,
   "metadata": {},
   "outputs": [],
   "source": [
    "object_names = []\n",
    "with open(\"./coco.names\",'r') as f:\n",
    "    object_names = f.read().splitlines()"
   ]
  },
  {
   "cell_type": "code",
   "execution_count": 3,
   "metadata": {},
   "outputs": [],
   "source": [
    "yolo = cv2.dnn.readNet(\"./model/yolov3.weights\",\"./model/yolov3.cfg\")"
   ]
  },
  {
   "cell_type": "code",
   "execution_count": 6,
   "metadata": {},
   "outputs": [],
   "source": [
    "vid = cv2.VideoCapture(0)\n",
    "# vid.set(cv2.CAP_PROP_BUFFERSIZE, 2)\n",
    "font = cv2.FONT_HERSHEY_PLAIN\n",
    "colours = np.random.uniform(0, 255, (len(object_names), 3))\n",
    "\n",
    "while(True):\n",
    "    ret, img = vid.read()\n",
    "    # img = cv2.imread(\"./Images/2.jpeg\")\n",
    "    height, width, _ = img.shape\n",
    "    new_height = 320\n",
    "    new_width = 320\n",
    "    new_img = cv2.dnn.blobFromImage(img, 1/255, (new_height, new_width), (0, 0, 0), swapRB=True, crop=False)\n",
    "    yolo.setInput(new_img)\n",
    "    output_object_names = yolo.getUnconnectedOutLayersNames()\n",
    "    output_layer = yolo.forward(output_object_names)\n",
    "    output_object_names = yolo.getUnconnectedOutLayersNames()\n",
    "    output_layer = yolo.forward(output_object_names)\n",
    "    \n",
    "    layers = []\n",
    "    confidence_levels = []\n",
    "    object_ids = []\n",
    "    for layer in output_layer:\n",
    "        for detection in layer:\n",
    "            score = detection[5:]\n",
    "            object_id = np.argmax(score)\n",
    "            confidence_level = score[object_id]\n",
    "            if confidence_level > 0.7:\n",
    "                w = int(detection[0]*width)\n",
    "                h = int(detection[1]*height)\n",
    "                x = int(int(detection[0]*width) - w/2)\n",
    "                y = int(int(detection[1]*height) - h/2)\n",
    "                layers.append([x, y, w, h])\n",
    "                confidence_levels.append(float(confidence_level))\n",
    "                object_ids.append(object_id)\n",
    "    indexes = cv2.dnn.NMSBoxes(layers, confidence_levels, 0.5, 0.4)\n",
    "    if(len(indexes)!=0):\n",
    "        for i in indexes.flatten():\n",
    "            x,y,w,h = layers[i]\n",
    "            label = str(object_names[object_ids[i]])\n",
    "            confidence = str(round(confidence_levels[i],2))\n",
    "            colour= colours[i]\n",
    "            cv2.rectangle(img, (x, y), (x+w-10, y+h-20), colour, 2)\n",
    "            cv2.putText(img,\"{}-{}\".format(label,confidence) ,(x,y+20),font,2,colour,2)\n",
    "    cv2.imshow('Webcam', img)\n",
    "    if cv2.waitKey(1) & 0xFF == ord('q'):\n",
    "        break\n",
    "# After the loop release the cap object\n",
    "vid.release()\n",
    "# Destroy all the windows\n",
    "cv2.destroyAllWindows()\n"
   ]
  },
  {
   "cell_type": "code",
   "execution_count": null,
   "metadata": {},
   "outputs": [],
   "source": []
  }
 ],
 "metadata": {
  "kernelspec": {
   "display_name": "Python 3.8.9 64-bit",
   "language": "python",
   "name": "python3"
  },
  "language_info": {
   "codemirror_mode": {
    "name": "ipython",
    "version": 3
   },
   "file_extension": ".py",
   "mimetype": "text/x-python",
   "name": "python",
   "nbconvert_exporter": "python",
   "pygments_lexer": "ipython3",
   "version": "3.8.9"
  },
  "orig_nbformat": 4,
  "vscode": {
   "interpreter": {
    "hash": "9bd9ca8edd2d0b036bd6790bf13a802b0ec2c29e540c884e62394b20aa1b8d5e"
   }
  }
 },
 "nbformat": 4,
 "nbformat_minor": 2
}
